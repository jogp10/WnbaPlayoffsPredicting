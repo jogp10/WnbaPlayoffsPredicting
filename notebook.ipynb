{
 "cells": [
  {
   "cell_type": "markdown",
   "metadata": {},
   "source": [
    "# Data Mining Project - WNBA Playoffs Prediction - G24"
   ]
  },
  {
   "cell_type": "markdown",
   "metadata": {},
   "source": [
    "## Business Understanding"
   ]
  },
  {
   "cell_type": "markdown",
   "metadata": {},
   "source": [
    "#### Our data\n",
    "Basketball tournaments are usually split in two parts. First, all teams play each other aiming to achieve the greatest number of wins possible. Then, at the end of the first part of the season, a pre determined number of teams which were able to win the most games are qualified to the playoff season, where they play series of knock-out matches for the trophy.\n",
    "\n",
    "For the 10 years, data from players, teams, coaches, games and several other metrics were gathered and arranged on this dataset. The goal is to use this data to predict which teams will qualify for the playoffs in the next season.\n",
    "\n"
   ]
  },
  {
   "cell_type": "markdown",
   "metadata": {},
   "source": [
    "#### Competition Format\n",
    "The 12 teams in the WNBA are split into an Eastern Conference and a Western Conference. WNBA fixtures begin with preseason games in May before each team plays 20 home games and 20 road games during the regular season.\n",
    "\n",
    "The aim for every team is to qualify for the Playoffs, which begin in September each year.\n",
    "\n",
    "The WNBA teams with the eight best regular season records regardless of standing qualify for the Playoffs. Higher seeds matchup with lower seeds, so the top seed faces the eight seed, the second seed faces the seven seed and so on.\n",
    "\n",
    "When it comes to betting on the Playoffs, the first round are best-of-three series. The semifinals and final are both best-of-five, meaning WNBA teams need to record three wins to claim victory in the series."
   ]
  },
  {
   "cell_type": "markdown",
   "metadata": {},
   "source": [
    "## Database Connection"
   ]
  },
  {
   "cell_type": "markdown",
   "metadata": {},
   "source": [
    "We used a free service to host our database. The Database is in MySQL."
   ]
  },
  {
   "cell_type": "code",
   "execution_count": 1,
   "metadata": {},
   "outputs": [],
   "source": [
    "# DB Credentials\n",
    "import json\n",
    "\n",
    "with open(\"config.json\") as config_file:\n",
    "    config = json.load(config_file)\n",
    "\n",
    "host = config[\"db_host\"]\n",
    "user = config[\"db_user\"]\n",
    "password = config[\"db_password\"]\n",
    "database = config[\"db_database\"]"
   ]
  },
  {
   "cell_type": "code",
   "execution_count": 2,
   "metadata": {},
   "outputs": [],
   "source": [
    "import mysql.connector\n",
    "\n",
    "connection = mysql.connector.connect(\n",
    "    host=host,\n",
    "    user=user,\n",
    "    password=password,\n",
    "    database=database\n",
    ")\n",
    "\n",
    "cursor = connection.cursor()\n",
    "\n",
    "def execute(query):\n",
    "    cursor.execute(query)\n",
    "    connection.commit()\n",
    "    return cursor.fetchall()\n",
    "\n",
    "def fetch(query):\n",
    "    cursor.execute(query)\n",
    "    return cursor.fetchall()\n",
    "\n",
    "SELECT = \"SELECT * FROM \" # + table_name\n",
    "INSERT = \"INSERT INTO \" # + table_name + \" VALUES \" + values\n",
    "UPDATE = \"UPDATE \" # + table_name + \" SET \" + column_name + \" = \" + value\n",
    "DELETE = \"DELETE FROM \" # + table_name + \" WHERE \" + column_name + \" = \" + value"
   ]
  },
  {
   "cell_type": "markdown",
   "metadata": {},
   "source": [
    " The data about the players, teams and coaches consist of following relations:\n",
    "\n",
    "    awards_players (96 objects) - each record describes awards and prizes received by players across 10 seasons,\n",
    "    coaches (163 objects) - each record describes all coaches who've managed the teams during the time period,\n",
    "    players (894 objects) - each record contains details of all players,\n",
    "    players_teams (1877 objects) - each record describes the performance of each player for each team they played,\n",
    "    series_post (71 objects) - each record describes the series' results,\n",
    "    teams (143 objects) - each record describes the performance of the teams for each season,\n",
    "    teams_post (81 objects) - each record describes the results of each team at the post-season.\n"
   ]
  },
  {
   "cell_type": "code",
   "execution_count": 3,
   "metadata": {},
   "outputs": [],
   "source": [
    "awards_players = fetch(SELECT + \"awards_players\") # awards and prizes received by players across 10 seasons,\n",
    "coaches = fetch(SELECT + \"coaches\") # all coaches who've managed the teams during the time period,\n",
    "players = fetch(SELECT + \"players\") # details of all players,\n",
    "players_teams = fetch(SELECT + \"players_teams\") # performance of each player for each team they played,\n",
    "series_post = fetch(SELECT + \"series_post\") # series' results,\n",
    "teams = fetch(SELECT + \"teams\") # performance of the teams for each season,\n",
    "teams_post = fetch(SELECT + \"teams_post\") # results of each team at the post-season."
   ]
  },
  {
   "cell_type": "markdown",
   "metadata": {},
   "source": [
    "## Data Understanding"
   ]
  },
  {
   "cell_type": "code",
   "execution_count": null,
   "metadata": {},
   "outputs": [
    {
     "name": "stdout",
     "output_type": "stream",
     "text": [
      "('adamsmi01w', 5, 'WAS', 'WNBA', 0, 17, 17, 1, 2)\n",
      "('adubari99w', 1, 'NYL', 'WNBA', 0, 20, 12, 4, 3)\n",
      "('adubari99w', 2, 'NYL', 'WNBA', 0, 21, 11, 3, 3)\n",
      "('adubari99w', 3, 'NYL', 'WNBA', 0, 18, 14, 4, 4)\n",
      "('adubari99w', 4, 'NYL', 'WNBA', 0, 16, 18, 0, 0)\n",
      "('adubari99w', 5, 'NYL', 'WNBA', 1, 7, 9, 0, 0)\n",
      "('adubari99w', 6, 'WAS', 'WNBA', 0, 16, 18, 0, 0)\n",
      "('adubari99w', 7, 'WAS', 'WNBA', 0, 18, 16, 0, 2)\n",
      "('adubari99w', 8, 'WAS', 'WNBA', 1, 0, 4, 0, 0)\n",
      "('aglerbr99w', 1, 'MIN', 'WNBA', 0, 15, 17, 0, 0)\n",
      "('aglerbr99w', 2, 'MIN', 'WNBA', 0, 12, 20, 0, 0)\n",
      "('aglerbr99w', 3, 'MIN', 'WNBA', 1, 6, 13, 0, 0)\n",
      "('aglerbr99w', 9, 'SEA', 'WNBA', 0, 22, 12, 1, 2)\n",
      "('aglerbr99w', 10, 'SEA', 'WNBA', 0, 20, 14, 1, 2)\n",
      "('allenso99w', 1, 'SAC', 'WNBA', 0, 21, 11, 0, 2)\n",
      "('allenso99w', 2, 'SAC', 'WNBA', 1, 6, 6, 0, 0)\n",
      "('bibbyhe01w', 6, 'LAS', 'WNBA', 1, 13, 15, 0, 0)\n",
      "('boguemu01w', 6, 'CHA', 'WNBA', 2, 3, 7, 0, 0)\n",
      "('boguemu01w', 7, 'CHA', 'WNBA', 0, 11, 23, 0, 0)\n",
      "('bouceje01w', 8, 'SAC', 'WNBA', 0, 19, 15, 1, 2)\n",
      "('bouceje01w', 9, 'SAC', 'WNBA', 0, 18, 16, 1, 2)\n",
      "('bouceje01w', 10, 'SAC', 'WNBA', 1, 3, 10, 0, 0)\n",
      "('brownde01w', 3, 'ORL', 'WNBA', 0, 16, 16, 0, 0)\n",
      "('brownde01w', 5, 'SAS', 'WNBA', 2, 6, 20, 0, 0)\n",
      "('bryanjo01w', 6, 'LAS', 'WNBA', 2, 4, 2, 0, 2)\n",
      "('bryanjo01w', 7, 'LAS', 'WNBA', 0, 25, 9, 2, 3)\n",
      "('chancva99w', 1, 'HOU', 'WNBA', 0, 27, 5, 6, 0)\n",
      "('chancva99w', 2, 'HOU', 'WNBA', 0, 19, 13, 0, 2)\n",
      "('chancva99w', 3, 'HOU', 'WNBA', 0, 24, 8, 1, 2)\n",
      "('chancva99w', 4, 'HOU', 'WNBA', 0, 20, 14, 1, 2)\n",
      "('chancva99w', 5, 'HOU', 'WNBA', 0, 13, 21, 0, 0)\n",
      "('chancva99w', 6, 'HOU', 'WNBA', 0, 19, 15, 2, 3)\n",
      "('chancva99w', 7, 'HOU', 'WNBA', 0, 18, 16, 0, 2)\n",
      "('coopecy01w', 2, 'PHO', 'WNBA', 0, 13, 19, 0, 0)\n",
      "('coopecy01w', 3, 'PHO', 'WNBA', 1, 6, 4, 0, 0)\n",
      "('coopemi01w', 1, 'LAS', 'WNBA', 0, 28, 4, 2, 2)\n",
      "('coopemi01w', 2, 'LAS', 'WNBA', 0, 28, 4, 6, 1)\n",
      "('coopemi01w', 3, 'LAS', 'WNBA', 0, 25, 7, 6, 0)\n",
      "('coopemi01w', 4, 'LAS', 'WNBA', 0, 24, 10, 5, 4)\n",
      "('coopemi01w', 5, 'LAS', 'WNBA', 1, 14, 6, 0, 0)\n",
      "('coopemi01w', 8, 'LAS', 'WNBA', 0, 10, 24, 0, 0)\n",
      "('coopemi01w', 9, 'LAS', 'WNBA', 0, 20, 14, 3, 3)\n",
      "('coopemi01w', 10, 'LAS', 'WNBA', 0, 18, 16, 3, 3)\n",
      "('cowenda01w', 7, 'CHI', 'WNBA', 0, 5, 29, 0, 0)\n",
      "('coylepa99w', 5, 'NYL', 'WNBA', 2, 11, 7, 2, 3)\n",
      "('coylepa99w', 6, 'NYL', 'WNBA', 0, 18, 16, 0, 2)\n",
      "('coylepa99w', 7, 'NYL', 'WNBA', 0, 11, 23, 0, 0)\n",
      "('coylepa99w', 8, 'NYL', 'WNBA', 0, 16, 18, 1, 2)\n",
      "('coylepa99w', 9, 'NYL', 'WNBA', 0, 19, 15, 3, 3)\n",
      "('coylepa99w', 10, 'NYL', 'WNBA', 1, 6, 11, 0, 0)\n",
      "('dailesh99w', 4, 'SAS', 'WNBA', 2, 6, 6, 0, 0)\n",
      "('dailesh99w', 5, 'SAS', 'WNBA', 1, 3, 5, 0, 0)\n",
      "('darscna99w', 1, 'WAS', 'WNBA', 1, 9, 11, 0, 0)\n",
      "('donovan99w', 1, 'IND', 'WNBA', 0, 9, 23, 0, 0)\n",
      "('donovan99w', 2, 'CHA', 'WNBA', 0, 18, 14, 4, 4)\n",
      "('donovan99w', 3, 'CHA', 'WNBA', 0, 18, 14, 0, 2)\n",
      "('donovan99w', 4, 'SEA', 'WNBA', 0, 18, 16, 0, 0)\n",
      "('donovan99w', 5, 'SEA', 'WNBA', 0, 20, 14, 6, 2)\n",
      "('donovan99w', 6, 'SEA', 'WNBA', 0, 20, 14, 1, 2)\n",
      "('donovan99w', 7, 'SEA', 'WNBA', 0, 18, 16, 1, 2)\n",
      "('donovan99w', 8, 'SEA', 'WNBA', 0, 17, 17, 0, 2)\n",
      "('donovan99w', 10, 'NYL', 'WNBA', 2, 7, 10, 0, 0)\n",
      "('dunnli99wc', 1, 'SEA', 'WNBA', 0, 6, 26, 0, 0)\n",
      "('dunnli99wc', 2, 'SEA', 'WNBA', 0, 10, 22, 0, 0)\n",
      "('dunnli99wc', 3, 'SEA', 'WNBA', 0, 17, 15, 0, 2)\n",
      "('dunnli99wc', 9, 'IND', 'WNBA', 0, 17, 17, 1, 2)\n",
      "('dunnli99wc', 10, 'IND', 'WNBA', 0, 22, 12, 6, 4)\n",
      "('dunntr01wc', 1, 'CHA', 'WNBA', 0, 8, 24, 0, 0)\n",
      "('fortnne99w', 2, 'IND', 'WNBA', 0, 10, 22, 0, 0)\n",
      "('fortnne99w', 3, 'IND', 'WNBA', 0, 16, 16, 1, 2)\n",
      "('fortnne99w', 4, 'IND', 'WNBA', 0, 16, 18, 0, 0)\n",
      "('gaineco01w', 9, 'PHO', 'WNBA', 0, 16, 18, 0, 0)\n",
      "('gaineco01w', 10, 'PHO', 'WNBA', 0, 23, 11, 7, 4)\n",
      "('gilloje01w', 10, 'MIN', 'WNBA', 0, 14, 20, 0, 0)\n",
      "('grafca99wc', 5, 'PHO', 'WNBA', 0, 17, 17, 0, 0)\n",
      "('grafca99wc', 6, 'PHO', 'WNBA', 0, 16, 18, 0, 0)\n",
      "('hargrli99w', 1, 'POR', 'WNBA', 0, 10, 22, 0, 0)\n",
      "('hargrli99w', 2, 'POR', 'WNBA', 0, 11, 21, 0, 0)\n",
      "('hargrli99w', 3, 'POR', 'WNBA', 0, 16, 16, 0, 0)\n",
      "('harveca99w', 2, 'UTA', 'WNBA', 2, 14, 5, 0, 2)\n",
      "('harveca99w', 3, 'UTA', 'WNBA', 0, 20, 12, 2, 3)\n",
      "('harveca99w', 4, 'SAS', 'WNBA', 1, 6, 16, 0, 0)\n",
      "('hugheda99w', 1, 'CLE', 'WNBA', 0, 17, 15, 3, 3)\n",
      "('hugheda99w', 2, 'CLE', 'WNBA', 0, 22, 10, 1, 2)\n",
      "('hugheda99w', 3, 'CLE', 'WNBA', 0, 10, 22, 0, 0)\n",
      "('hugheda99w', 4, 'CLE', 'WNBA', 0, 17, 17, 1, 2)\n",
      "('hugheda99w', 6, 'SAS', 'WNBA', 0, 7, 27, 0, 0)\n",
      "('hugheda99w', 7, 'SAS', 'WNBA', 0, 13, 21, 0, 0)\n",
      "('hugheda99w', 8, 'SAS', 'WNBA', 0, 20, 14, 2, 3)\n",
      "('hugheda99w', 9, 'SAS', 'WNBA', 0, 24, 10, 4, 5)\n",
      "('hugheda99w', 10, 'SAS', 'WNBA', 0, 15, 19, 1, 2)\n",
      "('jenkica99w', 7, 'MIN', 'WNBA', 2, 1, 10, 0, 0)\n",
      "('kenlaje99w', 9, 'WAS', 'WNBA', 2, 2, 10, 0, 0)\n",
      "('keyst99wc', 9, 'CHI', 'WNBA', 0, 12, 22, 0, 0)\n",
      "('keyst99wc', 10, 'CHI', 'WNBA', 0, 16, 18, 0, 0)\n",
      "('laceytr99w', 4, 'CHA', 'WNBA', 0, 18, 16, 0, 2)\n",
      "('laceytr99w', 5, 'CHA', 'WNBA', 0, 16, 18, 0, 0)\n",
      "('laceytr99w', 6, 'CHA', 'WNBA', 1, 3, 21, 0, 0)\n",
      "('laimbbi01w', 3, 'DET', 'WNBA', 2, 9, 13, 0, 0)\n",
      "('laimbbi01w', 4, 'DET', 'WNBA', 0, 25, 9, 6, 2)\n",
      "('laimbbi01w', 5, 'DET', 'WNBA', 0, 17, 17, 1, 2)\n",
      "('laimbbi01w', 6, 'DET', 'WNBA', 0, 16, 18, 0, 2)\n",
      "('laimbbi01w', 7, 'DET', 'WNBA', 0, 23, 11, 7, 3)\n",
      "('laimbbi01w', 8, 'DET', 'WNBA', 0, 24, 10, 6, 5)\n",
      "('laimbbi01w', 9, 'DET', 'WNBA', 0, 22, 12, 7, 2)\n",
      "('laimbbi01w', 10, 'DET', 'WNBA', 1, 1, 2, 0, 0)\n",
      "('liebena01w', 1, 'DET', 'WNBA', 0, 14, 18, 0, 0)\n",
      "('maherto99w', 2, 'WAS', 'WNBA', 0, 10, 22, 0, 0)\n",
      "('mahorri01w', 10, 'DET', 'WNBA', 2, 17, 14, 3, 2)\n",
      "('mcconsu01w', 4, 'MIN', 'WNBA', 0, 18, 16, 1, 2)\n",
      "('mcconsu01w', 5, 'MIN', 'WNBA', 0, 18, 16, 0, 2)\n",
      "('mcconsu01w', 6, 'MIN', 'WNBA', 0, 14, 20, 0, 0)\n",
      "('mcconsu01w', 7, 'MIN', 'WNBA', 1, 9, 14, 0, 0)\n",
      "('mchugma99w', 2, 'SAC', 'WNBA', 2, 14, 6, 3, 2)\n",
      "('mchugma99w', 3, 'SAC', 'WNBA', 0, 14, 18, 0, 0)\n",
      "('mchugma99w', 4, 'SAC', 'WNBA', 1, 7, 11, 0, 0)\n",
      "('meadoma99w', 9, 'ATL', 'WNBA', 0, 4, 30, 0, 0)\n",
      "('meadoma99w', 10, 'ATL', 'WNBA', 0, 18, 16, 0, 2)\n",
      "('millech99w', 1, 'PHO', 'WNBA', 0, 20, 12, 0, 2)\n",
      "('overtbo99w', 8, 'CHI', 'WNBA', 0, 14, 20, 0, 0)\n",
      "('peckca99wc', 1, 'ORL', 'WNBA', 0, 16, 16, 1, 2)\n",
      "('peckca99wc', 2, 'ORL', 'WNBA', 0, 13, 19, 0, 0)\n",
      "('plankju99w', 10, 'WAS', 'WNBA', 0, 16, 18, 0, 2)\n",
      "('rollitr01w', 8, 'WAS', 'WNBA', 2, 16, 14, 0, 0)\n",
      "('rollitr01w', 9, 'WAS', 'WNBA', 1, 8, 14, 0, 0)\n",
      "('rothsro99w', 1, 'MIA', 'WNBA', 0, 13, 19, 0, 0)\n",
      "('rothsro99w', 2, 'MIA', 'WNBA', 0, 20, 12, 1, 2)\n",
      "('rothsro99w', 3, 'MIA', 'WNBA', 0, 15, 17, 0, 0)\n",
      "('sharpli99w', 3, 'PHO', 'WNBA', 2, 5, 17, 0, 0)\n",
      "('shumajo01w', 4, 'PHO', 'WNBA', 0, 8, 26, 0, 0)\n",
      "('stanlma99w', 3, 'WAS', 'WNBA', 0, 17, 15, 3, 2)\n",
      "('stanlma99w', 4, 'WAS', 'WNBA', 0, 9, 25, 0, 0)\n",
      "('thibami99w', 4, 'CON', 'WNBA', 0, 18, 16, 2, 2)\n",
      "('thibami99w', 5, 'CON', 'WNBA', 0, 18, 16, 5, 3)\n",
      "('thibami99w', 6, 'CON', 'WNBA', 0, 26, 8, 5, 3)\n",
      "('thibami99w', 7, 'CON', 'WNBA', 0, 26, 8, 3, 2)\n",
      "('thibami99w', 8, 'CON', 'WNBA', 0, 18, 16, 1, 2)\n",
      "('thibami99w', 9, 'CON', 'WNBA', 0, 21, 13, 1, 2)\n",
      "('thibami99w', 10, 'CON', 'WNBA', 0, 16, 18, 0, 0)\n",
      "('thompka99w', 5, 'LAS', 'WNBA', 2, 11, 3, 1, 2)\n",
      "('thompka99w', 8, 'HOU', 'WNBA', 0, 13, 21, 0, 0)\n",
      "('thompka99w', 9, 'HOU', 'WNBA', 0, 17, 17, 0, 0)\n",
      "('vandehe99w', 3, 'MIN', 'WNBA', 2, 4, 9, 0, 0)\n",
      "('walkeda01w', 1, 'WAS', 'WNBA', 2, 5, 7, 0, 2)\n",
      "('weisery99w', 5, 'LAS', 'WNBA', 2, 11, 3, 1, 2)\n",
      "('westhpa99w', 7, 'PHO', 'WNBA', 0, 18, 16, 0, 0)\n",
      "('westhpa99w', 8, 'PHO', 'WNBA', 0, 23, 11, 7, 2)\n",
      "('whisejo99w', 4, 'SAC', 'WNBA', 2, 12, 4, 3, 3)\n",
      "('whisejo99w', 5, 'SAC', 'WNBA', 0, 18, 16, 3, 3)\n",
      "('whisejo99w', 6, 'SAC', 'WNBA', 0, 25, 9, 7, 1)\n",
      "('whisejo99w', 7, 'SAC', 'WNBA', 0, 21, 13, 6, 3)\n",
      "('whisejo99w', 10, 'SAC', 'WNBA', 2, 9, 12, 0, 0)\n",
      "('willifr99w', 1, 'UTA', 'WNBA', 0, 18, 14, 0, 0)\n",
      "('willifr99w', 2, 'UTA', 'WNBA', 1, 5, 8, 0, 0)\n",
      "('willigr99w', 2, 'DET', 'WNBA', 0, 10, 22, 0, 0)\n",
      "('willigr99w', 3, 'DET', 'WNBA', 1, 0, 10, 0, 0)\n",
      "('wintebr01w', 5, 'IND', 'WNBA', 0, 15, 19, 0, 0)\n",
      "('wintebr01w', 6, 'IND', 'WNBA', 0, 21, 13, 2, 2)\n",
      "('wintebr01w', 7, 'IND', 'WNBA', 0, 21, 13, 0, 2)\n",
      "('wintebr01w', 8, 'IND', 'WNBA', 0, 21, 13, 3, 3)\n",
      "('zierddo99w', 8, 'MIN', 'WNBA', 0, 10, 24, 0, 0)\n",
      "('zierddo99w', 9, 'MIN', 'WNBA', 0, 16, 18, 0, 0)\n"
     ]
    }
   ],
   "source": [
    "#print(coaches.description)\n",
    "\n",
    "for coach in coaches:\n",
    "    print(coach)"
   ]
  },
  {
   "cell_type": "code",
   "execution_count": 5,
   "metadata": {},
   "outputs": [],
   "source": [
    "connection.close()"
   ]
  }
 ],
 "metadata": {
  "kernelspec": {
   "display_name": "Python 3",
   "language": "python",
   "name": "python3"
  },
  "language_info": {
   "codemirror_mode": {
    "name": "ipython",
    "version": 3
   },
   "file_extension": ".py",
   "mimetype": "text/x-python",
   "name": "python",
   "nbconvert_exporter": "python",
   "pygments_lexer": "ipython3",
   "version": "3.10.12"
  },
  "orig_nbformat": 4
 },
 "nbformat": 4,
 "nbformat_minor": 2
}
