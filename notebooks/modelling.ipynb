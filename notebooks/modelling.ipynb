{
 "cells": [
  {
   "cell_type": "markdown",
   "id": "843b0d3d",
   "metadata": {},
   "source": [
    "# Data Modelling"
   ]
  },
  {
   "cell_type": "markdown",
   "id": "1f0ac332",
   "metadata": {},
   "source": [
    "## Get the data from the previous notebook"
   ]
  },
  {
   "cell_type": "code",
   "execution_count": 150,
   "id": "645ebe47",
   "metadata": {},
   "outputs": [],
   "source": [
    "import json\n",
    "import psycopg2\n",
    "import pandas as pd\n",
    "import matplotlib.pyplot as plt\n",
    "import seaborn as sns\n",
    "import numpy as np\n",
    "\n",
    "#Get the data from the previous notebook, as csv files, and load them into dataframes\n",
    "awards_players_df = pd.read_csv('../prep_data/awards_players_df.csv')\n",
    "coaches_df = pd.read_csv('../prep_data/coaches_df.csv')\n",
    "players_df = pd.read_csv('../prep_data/players_df.csv')\n",
    "players_teams_df = pd.read_csv('../prep_data/players_teams_df.csv')\n",
    "series_post_df = pd.read_csv('../prep_data/series_post_df.csv')\n",
    "teams_df = pd.read_csv('../prep_data/teams_df.csv')\n",
    "teams_post_df = pd.read_csv('../prep_data/teams_post_df.csv')\n",
    "\n",
    "#make a dictionary with all the dataframes\n",
    "dfs = {'awards_players_df': awards_players_df, 'coaches_df': coaches_df, 'players_df': players_df, 'players_teams_df': players_teams_df, 'series_post_df': series_post_df, 'teams_df': teams_df, 'teams_post_df': teams_post_df}\n"
   ]
  },
  {
   "cell_type": "code",
   "execution_count": 151,
   "id": "494e8078",
   "metadata": {},
   "outputs": [
    {
     "name": "stdout",
     "output_type": "stream",
     "text": [
      "awards_players_df\n",
      "   year    playerID                               award\n",
      "0     1  thompti01w  All-Star Game Most Valuable Player\n",
      "1     2  leslili01w  All-Star Game Most Valuable Player\n",
      "2     3  leslili01w  All-Star Game Most Valuable Player\n",
      "3     4  teaslni01w  All-Star Game Most Valuable Player\n",
      "4     6  swoopsh01w  All-Star Game Most Valuable Player\n",
      "\n",
      "\n",
      "coaches_df\n",
      "   year  stint  won  lost  post_wins  post_losses     coachID tmID\n",
      "0     5      0   17    17          1            2  adamsmi01w  WAS\n",
      "1     1      0   20    12          4            3  adubari99w  NYL\n",
      "2     2      0   21    11          3            3  adubari99w  NYL\n",
      "3     3      0   18    14          4            4  adubari99w  NYL\n",
      "4     4      0   16    18          0            0  adubari99w  NYL\n",
      "\n",
      "\n",
      "players_df\n",
      "   firstseason  lastseason  num_seasons       bioID pos  height  weight  \\\n",
      "0            2           9            8  abrossv01w   F    74.0   169.0   \n",
      "1            4           4            1  adamsjo01w   C    75.0   180.0   \n",
      "2            3           3            1  aguilel01w   G    67.0   165.0   \n",
      "3            9          10            2  ajavoma01w   G    68.0   160.0   \n",
      "4            1           2            2  aldrima01w   G    71.0   153.0   \n",
      "\n",
      "             college collegeOther   birthDate deathDate  \n",
      "0        Connecticut          NaN  1980-07-09       NaN  \n",
      "1         New Mexico          NaN  1981-05-24       NaN  \n",
      "2  George Washington          NaN  1976-10-15       NaN  \n",
      "3            Rutgers          NaN  1986-05-07       NaN  \n",
      "4      UNC Charlotte          NaN  1973-09-15       NaN  \n",
      "\n",
      "\n",
      "players_teams_df\n",
      "   year  stint  GP  threeAttempted  dq  PostoRebounds  PostBlocks  \\\n",
      "0     2      0  26              76   2              0           0   \n",
      "1     3      0  27              60   0              0           0   \n",
      "2     4      0  30              82   0              1           1   \n",
      "3     5      0  22              53   0              3           2   \n",
      "4     6      0  31              82   0              0           0   \n",
      "\n",
      "   PostthreeAttempted  PostDQ       FG%       FT%  Avg_Assists_Per_Game  \\\n",
      "0                   0       0  0.389078  0.727273              2.038462   \n",
      "1                   0       0  0.376582  0.482759              2.222222   \n",
      "2                   7       0  0.384365  0.726415              2.866667   \n",
      "3                   8       0  0.351852  0.600000              2.181818   \n",
      "4                   0       0  0.394928  0.726027              1.935484   \n",
      "\n",
      "   Avg_Blocks_Per_Game  Avg_Steals_Per_Game  Points_Ratio  POSITION_METRIC  \\\n",
      "0             0.346154             1.615385      0.000000         6.692308   \n",
      "1             0.370370             1.555556      0.000000         5.407407   \n",
      "2             0.400000             1.600000      0.072327         4.700000   \n",
      "3             0.181818             1.409091      0.136986         3.363636   \n",
      "4             0.193548             1.548387      0.000000         3.451613   \n",
      "\n",
      "   playoff    playerID tmID pos  \n",
      "0        0  abrossv01w  MIN   F  \n",
      "1        0  abrossv01w  MIN   F  \n",
      "2        1  abrossv01w  MIN   F  \n",
      "3        1  abrossv01w  MIN   F  \n",
      "4        0  abrossv01w  MIN   F  \n",
      "\n",
      "\n",
      "series_post_df\n",
      "   year  W  L round series tmIDWinner tmIDLoser\n",
      "0     1  2  1    FR      A        CLE       ORL\n",
      "1     1  2  0    FR      B        NYL       WAS\n",
      "2     1  2  0    FR      C        LAS       PHO\n",
      "3     1  2  0    FR      D        HOU       SAC\n",
      "4     1  2  0    CF      E        HOU       LAS\n",
      "\n",
      "\n",
      "teams_df\n",
      "   year  confID  playoff  firstRound  semis  finals  o_fta  o_3pm  o_oreb  \\\n",
      "0     9       0        0         NaN    NaN     NaN    725    202     340   \n",
      "1    10       0        1         0.0    NaN     NaN    755    114     404   \n",
      "2     1       0        0         NaN    NaN     NaN    577    131     305   \n",
      "3     2       0        1         1.0    1.0     0.0    528    153     309   \n",
      "4     3       0        1         0.0    NaN     NaN    663    211     302   \n",
      "\n",
      "   o_asts  ...  o_blk  d_3pa  d_oreb  d_dreb  d_asts  d_stl  d_to  d_blk  \\\n",
      "0     492  ...    142    502     401     864     684    310   561    134   \n",
      "1     547  ...    121    530     353     821     615    347   601    133   \n",
      "2     551  ...     90    423     326     664     596    259   426    123   \n",
      "3     467  ...    114    369     344     567     443    257   447    124   \n",
      "4     496  ...    105    372     295     620     489    208   424    103   \n",
      "\n",
      "   attend  tmID  \n",
      "0  141379   ATL  \n",
      "1  120737   ATL  \n",
      "2   90963   CHA  \n",
      "3  105525   CHA  \n",
      "4  106670   CHA  \n",
      "\n",
      "[5 rows x 22 columns]\n",
      "\n",
      "\n",
      "teams_post_df\n",
      "   year  W  L tmID\n",
      "0     1  6  0  HOU\n",
      "1     1  1  2  ORL\n",
      "2     1  3  3  CLE\n",
      "3     1  0  2  WAS\n",
      "4     1  4  3  NYL\n",
      "\n",
      "\n"
     ]
    }
   ],
   "source": [
    "#Print all the dataframes\n",
    "for key in dfs:\n",
    "    print(key)\n",
    "    print(dfs[key].head())\n",
    "    print('\\n')"
   ]
  },
  {
   "cell_type": "markdown",
   "id": "f676924c",
   "metadata": {},
   "source": [
    "# MODELING"
   ]
  },
  {
   "cell_type": "markdown",
   "id": "0a0f045b",
   "metadata": {},
   "source": [
    "## Decision Tree"
   ]
  },
  {
   "cell_type": "markdown",
   "id": "78df3c68",
   "metadata": {},
   "source": [
    "Run a simple model on the teams table to predict if a team will make it to the playoffs or not. Let's see how it behaves."
   ]
  },
  {
   "cell_type": "code",
   "execution_count": 159,
   "id": "736e9886",
   "metadata": {},
   "outputs": [],
   "source": [
    "teams_df\n",
    "\n",
    "# split into train years and test year (year 10)\n",
    "teams_train_df = teams_df[teams_df['year'] < 10]\n",
    "teams_test_df = teams_df[teams_df['year'] == 10]"
   ]
  },
  {
   "cell_type": "code",
   "execution_count": 160,
   "id": "a2b9c31e",
   "metadata": {},
   "outputs": [
    {
     "data": {
      "text/plain": [
       "year            0\n",
       "confID          0\n",
       "playoff         0\n",
       "firstRound     62\n",
       "semis         104\n",
       "finals        122\n",
       "o_fta           0\n",
       "o_3pm           0\n",
       "o_oreb          0\n",
       "o_asts          0\n",
       "o_stl           0\n",
       "o_to            0\n",
       "o_blk           0\n",
       "d_3pa           0\n",
       "d_oreb          0\n",
       "d_dreb          0\n",
       "d_asts          0\n",
       "d_stl           0\n",
       "d_to            0\n",
       "d_blk           0\n",
       "attend          0\n",
       "tmID            0\n",
       "dtype: int64"
      ]
     },
     "execution_count": 160,
     "metadata": {},
     "output_type": "execute_result"
    }
   ],
   "source": [
    "#see all null values in teams_df\n",
    "teams_df.isnull().sum()"
   ]
  },
  {
   "cell_type": "code",
   "execution_count": 161,
   "id": "0c03a8a0",
   "metadata": {},
   "outputs": [
    {
     "name": "stdout",
     "output_type": "stream",
     "text": [
      "Accuracy: 0.5384615384615384\n"
     ]
    },
    {
     "data": {
      "image/png": "[encoded data removed]",
      "text/plain": [
       "<Figure size 640x480 with 2 Axes>"
      ]
     },
     "metadata": {},
     "output_type": "display_data"
    }
   ],
   "source": [
    "# run a tree decision classifier\n",
    "from sklearn.tree import DecisionTreeClassifier\n",
    "from sklearn.metrics import accuracy_score, confusion_matrix\n",
    "import matplotlib.pyplot as plt\n",
    "from sklearn.tree import plot_tree\n",
    "\n",
    "# Split the data into features and target label\n",
    "target_names = ['No Playoffs', 'Playoffs']\n",
    "feature_names = []\n",
    "y_train = teams_train_df['playoff']\n",
    "y_test = teams_test_df['playoff']\n",
    "X_train = teams_train_df.drop(['playoff', 'year', 'tmID', 'firstRound', 'semis', 'finals'], axis=1)\n",
    "X_test = teams_test_df.drop(['playoff', 'year', 'tmID', 'firstRound', 'semis', 'finals'], axis=1)\n",
    "\n",
    "clf = DecisionTreeClassifier()\n",
    "\n",
    "# Fit the classifier on the training data\n",
    "clf.fit(X_train, y_train)\n",
    "\n",
    "# Make predictions on the test data\n",
    "y_pred = clf.predict(X_test)\n",
    "\n",
    "# Calculate the accuracy of the classifier\n",
    "accuracy = accuracy_score(y_test, y_pred)\n",
    "print(\"Accuracy:\", accuracy)\n",
    "\n",
    "# Create a confusion matrix to evaluate the model and print with labels\n",
    "cm = confusion_matrix(y_test, y_pred)\n",
    "df_cm = pd.DataFrame(cm, index=target_names, columns=target_names)\n",
    "sns.heatmap(df_cm, annot=True, cmap='Blues', fmt='g')\n",
    "plt.xlabel('Predicted')\n",
    "plt.ylabel('Actual')\n",
    "plt.show()"
   ]
  },
  {
   "cell_type": "code",
   "execution_count": 162,
   "id": "7fb2eafc",
   "metadata": {},
   "outputs": [
    {
     "name": "stdout",
     "output_type": "stream",
     "text": [
      "Modified Accuracy (Top 8 Teams as Playoff): 0.6923076923076923\n"
     ]
    },
    {
     "data": {
      "image/png": "[encoded data removed]",
      "text/plain": [
       "<Figure size 640x480 with 2 Axes>"
      ]
     },
     "metadata": {},
     "output_type": "display_data"
    }
   ],
   "source": [
    "top_teams_indices = y_pred.argsort()[-8:][::-1]  # Get the indices of the top 8 teams\n",
    "\n",
    "# Convert the labels to numeric format (0 for 'No Playoff', 1 for 'Playoff')\n",
    "y_pred_numeric = [1 if i in top_teams_indices else 0 for i in range(len(y_pred))]\n",
    "\n",
    "# Calculate the accuracy of the modified predictions\n",
    "accuracy = accuracy_score(y_test, y_pred_numeric)\n",
    "print(\"Modified Accuracy (Top 8 Teams as Playoff):\", accuracy)\n",
    "\n",
    "# Create a confusion matrix to evaluate the model and print with labels\n",
    "cm = confusion_matrix(y_test, y_pred_numeric)\n",
    "df_cm = pd.DataFrame(cm, index=target_names, columns=target_names)\n",
    "sns.heatmap(df_cm, annot=True, cmap='Blues', fmt='g')\n",
    "plt.xlabel('Predicted')\n",
    "plt.ylabel('Actual')\n",
    "plt.show()\n"
   ]
  },
  {
   "cell_type": "markdown",
   "id": "e2556d35",
   "metadata": {},
   "source": [
    "## Rolling window"
   ]
  },
  {
   "cell_type": "markdown",
   "id": "00efd014",
   "metadata": {},
   "source": [
    "#TODO: THIS IS NOT WORKING YET"
   ]
  },
  {
   "cell_type": "code",
   "execution_count": 187,
   "id": "a7a78b5a",
   "metadata": {},
   "outputs": [],
   "source": [
    "# Define the rolling window size (number of past years to consider)\n",
    "ROLLING_WIN_SIZE = 3  # You can adjust this value\n",
    "PREDICTION_YEAR = 10\n",
    "\n",
    "historical_data_df = teams_df[teams_df['year'] < PREDICTION_YEAR]\n",
    "\n",
    "def create_rolling_window_dataset(df, window_size):\n",
    "    rolling_window_data = []\n",
    "    for tmID, group in df.groupby('tmID'):\n",
    "        group = group.sort_values(by='year')\n",
    "        for i in range(len(group) - window_size + 1):\n",
    "            window = group.iloc[i:i + window_size]\n",
    "            rolling_window_data.append(window)\n",
    "    return rolling_window_data"
   ]
  },
  {
   "cell_type": "code",
   "execution_count": 191,
   "id": "ac2edc69",
   "metadata": {},
   "outputs": [
    {
     "name": "stdout",
     "output_type": "stream",
     "text": [
      "Accuracy: 1.0\n",
      "[1 1 1 1]\n",
      "7     1\n",
      "8     1\n",
      "25    1\n",
      "32    1\n",
      "Name: playoff, dtype: int64\n",
      "    confID       o_fta       o_3pm      o_oreb  o_asts       o_stl  \\\n",
      "7        0  746.000000  136.000000  406.000000   572.0  213.000000   \n",
      "8        0  772.000000  150.666667  388.666667   566.0  222.333333   \n",
      "25       1  684.000000  265.000000  334.000000   640.0  275.000000   \n",
      "32       1  608.666667  201.000000  333.333333   558.0  270.666667   \n",
      "\n",
      "          o_to  o_blk       d_3pa      d_oreb      d_dreb      d_asts  \\\n",
      "7   537.000000    117  561.000000  324.000000  760.000000  474.000000   \n",
      "8   555.000000    118  593.666667  314.000000  773.333333  522.000000   \n",
      "25  442.000000    159  618.000000  408.000000  875.000000  578.000000   \n",
      "32  534.666667    150  455.666667  364.666667  805.666667  530.666667   \n",
      "\n",
      "         d_stl        d_to       d_blk  attend  \n",
      "7   275.000000  506.000000  108.000000  165738  \n",
      "8   275.666667  521.333333  114.000000  162669  \n",
      "25  231.000000  537.000000  126.000000  131524  \n",
      "32  256.000000  548.666667  134.333333  135722  \n"
     ]
    }
   ],
   "source": [
    "# Split the data into features and target label\n",
    "target_names = ['No Playoff', 'Playoff']\n",
    "\n",
    "# Create the rolling window datasets for training and testing\n",
    "rolling_window_train = create_rolling_window_dataset(historical_data_df,  ROLLING_WIN_SIZE)\n",
    "\n",
    "# Create the training and testing datasets\n",
    "X_test = pd.DataFrame()\n",
    "X_train = pd.DataFrame()\n",
    "\n",
    "for window in rolling_window_train:\n",
    "    if max(window['year']) == PREDICTION_YEAR - 1:\n",
    "        X_test = pd.concat([X_test, window], axis=0, ignore_index=True)\n",
    "    else:\n",
    "        X_train = pd.concat([X_train, window], axis=0, ignore_index=True)\n",
    "    \n",
    "# Calculate weighted moving averages for relevant features using EWMA\n",
    "weighted_features = ['o_fta', 'o_3pm', 'o_oreb', 'o_asts', 'o_stl', 'o_to', 'd_3pa', 'd_oreb', 'd_dreb', 'd_asts', 'd_stl', 'd_to', 'd_blk']\n",
    "\n",
    "for feature in weighted_features:\n",
    "    X_train[feature] = X_train.groupby('tmID')[feature].transform(lambda x: x.ewm(span=ROLLING_WIN_SIZE).mean().shift(1))\n",
    "    X_test[feature] = X_test.groupby('tmID')[feature].transform(lambda x: x.ewm(span=ROLLING_WIN_SIZE).mean().shift(1))\n",
    "\n",
    "# Drop the first ROLLING_WIN_SIZE rows since they contain NaN values\n",
    "X_train = X_train.dropna()\n",
    "X_test = X_test.dropna()\n",
    "\n",
    "# Drop the columns that are not needed\n",
    "X_train = X_train.drop(['year', 'tmID', 'firstRound', 'semis', 'finals'], axis=1)\n",
    "X_test = X_test.drop(['year', 'tmID', 'firstRound', 'semis', 'finals'], axis=1)\n",
    "\n",
    "# Split the data into features and target label\n",
    "y_train = X_train['playoff']\n",
    "y_test = X_test['playoff']\n",
    "X_train = X_train.drop(['playoff'], axis=1)\n",
    "X_test = X_test.drop(['playoff'], axis=1)\n",
    "\n",
    "# Fit the classifier on the training data\n",
    "clf.fit(X_train, y_train)\n",
    "\n",
    "# Make predictions on the test data\n",
    "y_pred = clf.predict(X_test)\n",
    "\n",
    "# Calculate the accuracy of the classifier\n",
    "accuracy = accuracy_score(y_test, y_pred)\n",
    "print(\"Accuracy:\", accuracy)\n",
    "\n",
    "print(y_pred)\n",
    "print(y_test)\n",
    "print(X_test)\n"
   ]
  }
 ],
 "metadata": {
  "kernelspec": {
   "display_name": "Python 3",
   "language": "python",
   "name": "python3"
  },
  "language_info": {
   "codemirror_mode": {
    "name": "ipython",
    "version": 3
   },
   "file_extension": ".py",
   "mimetype": "text/x-python",
   "name": "python",
   "nbconvert_exporter": "python",
   "pygments_lexer": "ipython3",
   "version": "3.9.1"
  }
 },
 "nbformat": 4,
 "nbformat_minor": 5
}
