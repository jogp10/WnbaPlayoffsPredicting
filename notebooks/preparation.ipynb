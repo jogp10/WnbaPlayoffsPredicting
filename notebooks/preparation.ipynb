{
 "cells": [
  {
   "cell_type": "markdown",
   "id": "4eb42898",
   "metadata": {},
   "source": [
    "## Database Connection"
   ]
  },
  {
   "cell_type": "markdown",
   "id": "a0aeeee5",
   "metadata": {},
   "source": [
    "We used a free service to host our database. The Database is in PostgreSQL."
   ]
  },
  {
   "cell_type": "code",
   "execution_count": 1,
   "id": "5e05b1b8",
   "metadata": {
    "ExecuteTime": {
     "end_time": "2023-10-26T14:38:26.947741Z",
     "start_time": "2023-10-26T14:38:26.910733900Z"
    }
   },
   "outputs": [],
   "source": [
    "import json\n",
    "import psycopg2\n",
    "import pandas as pd\n",
    "import matplotlib.pyplot as plt\n",
    "import seaborn as sns\n",
    "import numpy as np"
   ]
  },
  {
   "cell_type": "code",
   "execution_count": 2,
   "id": "5248e784",
   "metadata": {
    "ExecuteTime": {
     "end_time": "2023-10-26T14:38:26.966493900Z",
     "start_time": "2023-10-26T14:38:26.948739100Z"
    }
   },
   "outputs": [],
   "source": [
    "# DB Credentials\n",
    "\n",
    "with open(\"../config.json\") as config_file:\n",
    "    config = json.load(config_file)\n",
    "\n",
    "host = config[\"db_host\"]\n",
    "user = config[\"db_user\"]\n",
    "password = config[\"db_password\"]\n",
    "database = config[\"db_database\"]\n",
    "schema = config[\"db_schema\"]"
   ]
  },
  {
   "cell_type": "code",
   "execution_count": 3,
   "id": "1f76a747",
   "metadata": {
    "ExecuteTime": {
     "end_time": "2023-10-26T14:38:27.339973300Z",
     "start_time": "2023-10-26T14:38:26.957491400Z"
    }
   },
   "outputs": [],
   "source": [
    "connection = psycopg2.connect(\n",
    "    host=host,\n",
    "    user=user,\n",
    "    password=password,\n",
    "    database=database\n",
    ")\n",
    "\n",
    "cursor = connection.cursor()\n",
    "\n",
    "def execute(query):\n",
    "    cursor.execute(query)\n",
    "    connection.commit()\n",
    "    return cursor.fetchall()\n",
    "\n",
    "def fetch(query):\n",
    "    cursor.execute(query)\n",
    "    return cursor.fetchall()\n",
    "\n",
    "SELECT = \"SELECT * FROM \" + schema + \".\" # + table_name \n",
    "INSERT = \"INSERT INTO \" + schema + \".\" # + table_name + \" VALUES \" + values\n",
    "UPDATE = \"UPDATE \" + schema + \".\" # + table_name + \" SET \" + column_name + \" = \" + value\n",
    "DELETE = \"DELETE FROM \" + schema + \".\"  # + table_name + \" WHERE \" + column_name + \" = \" + value\n",
    "\n",
    "# Test data, year 10\n",
    "TEST_DATA = \"year = 10\"\n",
    "TRAIN_DATA = \"year < 10\""
   ]
  },
  {
   "cell_type": "code",
   "execution_count": 4,
   "id": "44416216",
   "metadata": {
    "ExecuteTime": {
     "end_time": "2023-10-26T14:38:28.100006100Z",
     "start_time": "2023-10-26T14:38:27.343980300Z"
    }
   },
   "outputs": [],
   "source": [
    "awards_players = fetch(SELECT + \"awards_players\") # awards and prizes received by players across 10 seasons,\n",
    "coaches = fetch(SELECT + \"coaches\") # all coaches who've managed the teams during the time period,\n",
    "players = fetch(SELECT + \"players\") # details of all players,\n",
    "players_teams = fetch(SELECT + \"players_teams\") # performance of each player for each team they played,\n",
    "series_post = fetch(SELECT + \"series_post\") # series' results,\n",
    "teams = fetch(SELECT + \"teams\") # performance of the teams for each season,\n",
    "teams_post = fetch(SELECT + \"teams_post\") # results of each team at the post-season."
   ]
  },
  {
   "cell_type": "code",
   "execution_count": 5,
   "id": "c4454347",
   "metadata": {
    "ExecuteTime": {
     "end_time": "2023-10-26T14:38:28.192467900Z",
     "start_time": "2023-10-26T14:38:28.109017400Z"
    }
   },
   "outputs": [],
   "source": [
    "#save the data in a dataframe\n",
    "awards_players_df = pd.DataFrame(awards_players, columns=['playerID', 'award', 'year', 'lgID'])\n",
    "coaches_df = pd.DataFrame(coaches, columns=['coachID', 'year', 'tmID', 'lgID', 'stint', 'won', 'lost', 'post_wins', 'post_losses'])\n",
    "players_df = pd.DataFrame(players, columns=['bioID', 'pos', 'firstseason', 'lastseason', 'height', 'weight', 'college', 'collegeOther', 'birthDate', 'deathDate'])\n",
    "players_teams_df = pd.DataFrame(players_teams, columns=['playerID', 'year', 'stint', 'tmID', 'lgID', 'GP', 'GS', 'minutes', 'points', 'oRebounds', 'dRebounds', 'rebounds', 'assists', 'steals', 'blocks', 'turnovers', 'PF', 'fgAttempted', 'fgMade', 'ftAttempted', 'ftMade', 'threeAttempted', 'threeMade', 'dq', 'PostGP', 'PostGS', 'PostMinutes', 'PostPoints', 'PostoRebounds', 'PostdRebounds', 'PostRebounds', 'PostAssists', 'PostSteals', 'PostBlocks', 'PostTurnovers', 'PostPF', 'PostfgAttempted', 'PostfgMade', 'PostftAttempted', 'PostftMade', 'PostthreeAttempted', 'PostthreeMade', 'PostDQ'])\n",
    "series_post_df = pd.DataFrame(series_post, columns=['year', 'round', 'series', 'tmIDWinner', 'lgIDWinner', 'tmIDLoser', 'lgIDLoser', 'W', 'L'])\n",
    "teams_df = pd.DataFrame(teams, columns=['year', 'lgID', 'tmID', 'franchID', 'confID', 'divID', 'rank', 'playoff', 'seeded', 'firstRound', 'semis', 'finals', 'name', 'o_fgm', 'o_fga', 'o_ftm', 'o_fta', 'o_3pm', 'o_3pa', 'o_oreb', 'o_dreb', 'o_reb', 'o_asts', 'o_pf', 'o_stl', 'o_to', 'o_blk', 'o_pts', 'd_fgm', 'd_fga', 'd_ftm', 'd_fta', 'd_3pm', 'd_3pa', 'd_oreb', 'd_dreb', 'd_reb', 'd_asts', 'd_pf', 'd_stl', 'd_to', 'd_blk', 'd_pts', 'tmORB', 'tmDRB', 'tmTRB', 'opptmORB', 'opptmDRB', 'opptmTRB', 'won', 'lost', 'GP', 'homeW', 'homeL', 'awayW', 'awayL', 'confW', 'confL', 'min', 'attend', 'arena'])\n",
    "teams_post_df = pd.DataFrame(teams_post, columns=['year', 'tmID', 'lgID', 'W', 'L'])\n",
    "\n",
    "#make a dictionary with all the dataframes\n",
    "dfs = {'awards_players_df': awards_players_df, 'coaches_df': coaches_df, 'players_df': players_df, 'players_teams_df': players_teams_df, 'series_post_df': series_post_df, 'teams_df': teams_df, 'teams_post_df': teams_post_df}"
   ]
  },
  {
   "cell_type": "markdown",
   "id": "c17109c4",
   "metadata": {},
   "source": [
    "So with that we end our understanding phase.\n",
    "Our main takeaways are:\n",
    "- There are dead players in the players table. We should take that into account when doing the analysis.\n",
    "- There are players that have not played any season of the seasons given. We should take that into account when doing the analysis. There are 338 players that have not played any season.\n",
    "- There are no Null entries (although there values that are simply an empty string)\n",
    "- There are some columns with the DataType \"object\", most of them being strings.\n",
    "- There are binary objects (like confID and playoff, in the 'teams' table, with the values \"Y\" or \"N\") that could be substituted by a binary, as well as ternary objects (like the firstRound, semis and finals in the 'teams' table, with the values \"W\", \"L\" or \"\") that could also be transformed.\n",
    "- There are players with no position and no college assigned (\"\").\n",
    "- There are players with no date of birth in the record (0000-00-00).\n",
    "- There is the need to do null value uniformization, as there are some columns with empty strings, others with default 0 values and other values that represent null.\n",
    "- The height and weight variables have default 0 values and should be treated as null values.\n",
    "- The number of games played by each team differs (there may be teams that are no longer playing), so we can't compare the number of wins and losses directly. Win percentage should be used.\n",
    "- In terms of win percentage, it seems like a competitive league, with more than half of the teams having a win percentage of 50% or more, taking advantage of the worst teams. There is also just one team below 40% of wins.\n",
    "- There are teams that are no longer playing.\n",
    "- There are a lot of highly correlated variables."
   ]
  },
  {
   "cell_type": "markdown",
   "id": "2601ae40",
   "metadata": {},
   "source": [
    "## Preparing the data for the model\n",
    "\n",
    "In this notebook, we will prepare the data for the model. Having done the understanding in the [previous notebook](understanding.ipynb), we will now prepare the data for the model. From the understanding we came to the following conclusions:"
   ]
  },
  {
   "cell_type": "markdown",
   "id": "8642023b",
   "metadata": {},
   "source": [
    "So with that we end our understanding phase.\n",
    "Our main takeaways are:\n",
    "- There are dead players in the players table. We should take that into account when doing the analysis.\n",
    "- There are players that have not played any season of the seasons given. We should take that into account when doing the analysis. There are 338 players that have not played any season.\n",
    "- There are no Null entries (although there values that are simply an empty string)\n",
    "- There are some columns with the DataType \"object\", most of them being strings.\n",
    "- There are binary objects (like confID and playoff, in the 'teams' table, with the values \"Y\" or \"N\") that could be substituted by a binary, as well as ternary objects (like the firstRound, semis and finals in the 'teams' table, with the values \"W\", \"L\" or \"\") that could also be transformed.\n",
    "- There are players with no position and no college assigned (\"\").\n",
    "- There are players with no date of birth in the record (0000-00-00).\n",
    "- There is the need to do null value uniformization, as there are some columns with empty strings, others with default 0 values and other values that represent null.\n",
    "- The height and weight variables have default 0 values and should be treated as null values.\n",
    "- The number of games played by each team differs (there may be teams that are no longer playing), so we can't compare the number of wins and losses directly. Win percentage should be used.\n",
    "- In terms of win percentage, it seems like a competitive league, with more than half of the teams having a win percentage of 50% or more, taking advantage of the worst teams. There is also just one team below 40% of wins.\n",
    "- There are teams that are no longer playing.\n",
    "- There are a lot of highly correlated variables."
   ]
  },
  {
   "cell_type": "markdown",
   "id": "b90834ca",
   "metadata": {},
   "source": [
    "After considering our takeaways, we will now prepare the data for the model. We will do the following:\n",
    "- Remove the players that have not played any season, and, if a player died, remove the seasons after the death.\n",
    "- Transform the binary objects into binary values.\n",
    "- Transform the ternary objects into binary values. (where the third value is a null value)\n",
    "- Null uniformization: transform the empty strings and default 0 values into null values.\n",
    "- Analysis null values: analyze the null values and decide what to do with them.\n",
    "- Calculate win percentage for each team and add it to the teams table."
   ]
  },
  {
   "cell_type": "markdown",
   "id": "a3f2ce92",
   "metadata": {},
   "source": [
    "We start by dropping the columns that are always the same, as they don't add any information to the model."
   ]
  },
  {
   "cell_type": "code",
   "execution_count": 6,
   "id": "a4a375c2",
   "metadata": {
    "ExecuteTime": {
     "end_time": "2023-10-26T14:38:28.270501300Z",
     "start_time": "2023-10-26T14:38:28.197480400Z"
    }
   },
   "outputs": [
    {
     "name": "stdout",
     "output_type": "stream",
     "text": [
      "awards_players_df lgID\n",
      "coaches_df lgID\n",
      "players_df firstseason\n",
      "players_df lastseason\n",
      "players_teams_df lgID\n",
      "series_post_df lgIDWinner\n",
      "series_post_df lgIDLoser\n",
      "teams_df lgID\n",
      "teams_df divID\n",
      "teams_df seeded\n",
      "teams_df tmORB\n",
      "teams_df tmDRB\n",
      "teams_df tmTRB\n",
      "teams_df opptmORB\n",
      "teams_df opptmDRB\n",
      "teams_df opptmTRB\n",
      "teams_post_df lgID\n"
     ]
    }
   ],
   "source": [
    "#Drop columns whose values are always the same\n",
    "for df in dfs:\n",
    "    for col in dfs[df].columns:\n",
    "        if len(dfs[df][col].unique()) == 1:\n",
    "            print(df, col)\n",
    "            dfs[df].drop(col, inplace=True, axis=1)"
   ]
  },
  {
   "cell_type": "markdown",
   "id": "f907828e",
   "metadata": {},
   "source": [
    "### Remove the players that have not played any season, and, if a player died, remove the seasons after the death"
   ]
  },
  {
   "cell_type": "code",
   "execution_count": 7,
   "id": "b882763c",
   "metadata": {
    "ExecuteTime": {
     "end_time": "2023-10-26T14:38:28.384913500Z",
     "start_time": "2023-10-26T14:38:28.267497600Z"
    }
   },
   "outputs": [
    {
     "data": {
      "text/plain": "['abrahta01w',\n 'adairje01w',\n 'adamsda01w',\n 'adamsmi01w',\n 'adubari99w',\n 'aglerbr99w',\n 'alberma01w',\n 'alexaer01w',\n 'allenso99w',\n 'angelyv01w',\n 'appelja01w',\n 'artiska01w',\n 'ayimmi01w',\n 'bakerla01w',\n 'bassmi01w',\n 'becenry01w',\n 'beckan99wc',\n 'bellje01w',\n 'berggas01w',\n 'berrysh01w',\n 'berubca01w',\n 'bibbyhe01w',\n 'bishoab01w',\n 'bjedoni01w',\n 'bjorkan01w',\n 'bladerh01w',\n 'boguemu01w',\n 'boldeba01w',\n 'bookeka01w',\n 'bosweca01w',\n 'bouceje01w',\n 'bouchke01w',\n 'boyerli99w',\n 'bradlki01w',\n 'brancli01w',\n 'branzal01w',\n 'branzge01w',\n 'braxtja01w',\n 'brcanra01w',\n 'brelaje01w',\n 'brownci01w',\n 'brownde01w',\n 'brownla01w',\n 'brownle01w',\n 'brucegr99w',\n 'bryanjo01w',\n 'burgehe01w',\n 'burgehe02w',\n 'byrdla01w',\n 'cabezli01w',\n 'cainke01w',\n 'camba01w',\n 'cartede01w',\n 'cartesy01w',\n 'cebriel01w',\n 'chacoke01w',\n 'chancva99w',\n 'charlda01w',\n 'charlti01w',\n 'chaseso01w',\n 'chatmda99w',\n 'cheekjo01w',\n 'cheruam01w',\n 'chestfe01w',\n 'chriska02w',\n 'clarkal01w',\n 'clarkma01w',\n 'cleamji01w',\n 'colsosy01w',\n 'compame01w',\n 'congran01w',\n 'conklab01w',\n 'coopemi01w',\n 'cowenda01w',\n 'coylepa99w',\n 'crosssh01w',\n 'crumpca01w',\n 'cummiki01w',\n 'cunnima01w',\n 'dailesh99w',\n 'darscna99w',\n 'daviscl01w',\n 'davisla01w',\n 'davista01w',\n 'dedenka01w',\n 'dixonin01w',\n 'doagela01w',\n 'domonna01w',\n 'donovan99w',\n 'dunlavi01w',\n 'dunnli99wc',\n 'dunntr01wc',\n 'dydekka01w',\n 'estessh99w',\n 'evansda01w',\n 'evansde01w',\n 'feldeja01w',\n 'fijalis01w',\n 'fortnne99w',\n 'fostecl99w',\n 'fosteto01w',\n 'frankba01w',\n 'freemla01w',\n 'frostsh01w',\n 'gaineco01w',\n 'gamblam01w',\n 'ganttr01w',\n 'gaypi01w',\n 'gessiki01w',\n 'gilbrbr01w',\n 'godbyli01w',\n 'goodemo01w',\n 'goodeti01w',\n 'goodlsa01w',\n 'gordobr01w',\n 'grafca99wc',\n 'grahama01w',\n 'gravede01w',\n 'graylal01w',\n 'greenka01w',\n 'griffke01w',\n 'guytowa01w',\n 'hagiwmi01w',\n 'hamblan01w',\n 'hamptky01w',\n 'hardish01w',\n 'hargrli99w',\n 'harriam01w',\n 'harrifr01w',\n 'harveca99w',\n 'hayesti01w',\n 'hedgpch01w',\n 'hemmera01w',\n 'henryan01w',\n 'hightal01w',\n 'hillmli99w',\n 'hillmna01w',\n 'hodgeda01w',\n 'hodgesa01w',\n 'holdeta99w',\n 'hopsosu01w',\n 'houtsas01w',\n 'howarje01w',\n 'howarme01w',\n 'hudsopa01w',\n 'hugheda99w',\n 'hullaja99w',\n 'ibekwif01w',\n 'jacksan01w',\n 'jacksti01w',\n 'jacobje01w',\n 'jenkica99w',\n 'johnsda01w',\n 'johnsgl01w',\n 'johnsle01w',\n 'johnssh02w',\n 'jollyke01w',\n 'joneskc01w',\n 'jonesma01w',\n 'jordapa01w',\n 'joyneja01w',\n 'kaplaan01w',\n 'kausaan01w',\n 'kenlaje99w',\n 'keyst99wc',\n 'kizerly01w',\n 'kloppga99wc',\n 'kobryew01w',\n 'kossgr01w',\n 'kukloan01w',\n 'laceyal01w',\n 'laceytr99w',\n 'lacyna01w',\n 'laimbbi01w',\n 'langeme01w',\n 'langja01w',\n 'larakr01w',\n 'lavenja01w',\n 'laydefr99w',\n 'levesni01w',\n 'lewisji99w',\n 'lilleta01w',\n 'listr01w',\n 'lowreja99w',\n 'maherto99w',\n 'mahorri01w',\n 'malloam01w',\n 'margiga01w',\n 'maslemi01w',\n 'matteka01w',\n 'maxwean01w',\n 'maytuet01w',\n 'mccarjo01w',\n 'mcclaka01w',\n 'mccrada01w',\n 'mcgeepa01w',\n 'mchugma99w',\n 'meadoma99w',\n 'millech99w',\n 'mizrali01w',\n 'mokanch01w',\n 'monroja01w',\n 'montgal01w',\n 'moorema01w',\n 'moorepe01w',\n 'mooreyo01w',\n 'morehmo01w',\n 'morgale01w',\n 'morrich01w',\n 'morrije01w',\n 'morrila01w',\n 'morrizi01w',\n 'mosleju01w',\n 'murphma99w',\n 'neroja01w',\n 'nichoti01w',\n 'nikolmi01w',\n 'novosna01w',\n 'ogwumnn01w',\n 'oheaje01w',\n 'olajuab01w',\n 'orrki01w',\n 'osburde01w',\n 'overtbo99w',\n 'parsoca99w',\n 'paschti01w',\n 'peckca99wc',\n 'pederka01w',\n 'perazja01w',\n 'perpeer01w',\n 'perroki01w',\n 'peterde01w',\n 'petroso01w',\n 'phillpo01w',\n 'phillta02w',\n 'plankju99w',\n 'plowdvi01w',\n 'pohleje01w',\n 'pollica01w',\n 'prahasa01w',\n 'pricefr01w',\n 'priceka01w',\n 'princep01w',\n 'ravenbr01w',\n 'raymota01w',\n 'redmoka01w',\n 'reedch01w',\n 'reedmi01w',\n 'reevech99wc',\n 'reissta01w',\n 'resska01w',\n 'reynoch01w',\n 'richano99wc',\n 'rileyan01w',\n 'roberav01w',\n 'roberny01w',\n 'robertr99w',\n 'robinda01w',\n 'robinsc01w',\n 'rollitr01w',\n 'rossca99wc',\n 'rothsro99w',\n 'rouilni01w',\n 'roundsa01w',\n 'roussju99w',\n 'ruffje01w',\n 'ryankr01w',\n 'rycraeu01w',\n 'sampsto01w',\n 'sandish01w',\n 'savasla01w',\n 'scottra01w',\n 'sharpli99w',\n 'sheetsh01w',\n 'shegoch01w',\n 'shudlca01w',\n 'shulead01w',\n 'shumajo01w',\n 'simondy01w',\n 'simpsda01w',\n 'smithch01w',\n 'sobrale01w',\n 'sobrama01w',\n 'stanlma99w',\n 'stephre01w',\n 'sterkca01w',\n 'stillva01w',\n 'stricsh01w',\n 'suberto01w',\n 'swordca01w',\n 'sykesap01w',\n 'tatede01w',\n 'taylode99w',\n 'thibami99w',\n 'thirdtr01w',\n 'thomaja01w',\n 'thomakr01w',\n 'thompam01w',\n 'thompka99w',\n 'thomppa01w',\n 'thompsh01w',\n 'tolerpe01w',\n 'tricetr01w',\n 'tunsine01w',\n 'tutermo01w',\n 'tzekopo01w',\n 'vandeco01w',\n 'vandehe99w',\n 'vanemal01w',\n 'veselja01w',\n 'vidicbo01w',\n 'viglida01w',\n 'voigtka01w',\n 'vukadmi01w',\n 'walkeda01w',\n 'wardvo01w',\n 'warleav01w',\n 'weisery99w',\n 'westhpa99w',\n 'whisejo99w',\n 'wilkeda01w',\n 'willide01w',\n 'willifr99w',\n 'willigr99w',\n 'williki01w',\n 'williri02w',\n 'willisa01w',\n 'wintebr01w',\n 'wojtaju01w',\n 'woodaly01w',\n 'woodki01w',\n 'woolror01w',\n 'wooslti01w',\n 'wrighfa01w',\n 'wrighmo01w',\n 'yasenco01w',\n 'zhengha01w',\n 'zierddo99w']"
     },
     "execution_count": 7,
     "metadata": {},
     "output_type": "execute_result"
    }
   ],
   "source": [
    "#players that have not played in the last 10 years\n",
    "players_not_played = fetch(\"SELECT p.bioid FROM wnba.players p WHERE p.bioid not in (select pt.playerid  from wnba.players_teams pt)\")\n",
    "#Convert list of tuples to list\n",
    "players_not_played = [i[0] for i in players_not_played]\n",
    "players_not_played"
   ]
  },
  {
   "cell_type": "code",
   "execution_count": 8,
   "id": "861dba78",
   "metadata": {
    "ExecuteTime": {
     "end_time": "2023-10-26T14:38:28.385871800Z",
     "start_time": "2023-10-26T14:38:28.346798Z"
    }
   },
   "outputs": [
    {
     "name": "stdout",
     "output_type": "stream",
     "text": [
      "Number of players that have not played:  338\n",
      "-------------------------------------------\n",
      "Number of values in the players_team_df:  555\n",
      "Number of values in the awards_players_df:  58\n",
      "Number of values in the players_df:  893\n",
      "Number of values in the players_team_df:  555\n",
      "Number of values in the awards_players_df:  51\n",
      "Number of values in the players_df:  555\n"
     ]
    }
   ],
   "source": [
    "#Print the number of players that have not played in the last 10 years, and the lenght of the 3 dataframes that contain the playerID\n",
    "print(\"Number of players that have not played: \", len(players_not_played))\n",
    "print(\"-------------------------------------------\")\n",
    "print(\"Number of values in the players_team_df: \", len(dfs['players_teams_df']['playerID'].unique()))\n",
    "print(\"Number of values in the awards_players_df: \", len(dfs['awards_players_df']['playerID'].unique()))\n",
    "print(\"Number of values in the players_df: \", len(dfs['players_df']['bioID'].unique()))\n",
    "\n",
    "#Remove the players that have not played in the last 10 years\n",
    "for df in dfs:\n",
    "    if(df == 'players_teams_df' or df == 'awards_players_df'):\n",
    "        dfs[df] = dfs[df][~dfs[df]['playerID'].isin(players_not_played)]\n",
    "    if(df == 'players_df'):\n",
    "        dfs[df] = dfs[df][~dfs[df]['bioID'].isin(players_not_played)]\n",
    "\n",
    "#Print the number of players that have not played in the last 10 years, and the lenght of the 3 dataframes that contain the playerID\n",
    "print(\"Number of values in the players_team_df: \", len(dfs['players_teams_df']['playerID'].unique()))\n",
    "print(\"Number of values in the awards_players_df: \", len(dfs['awards_players_df']['playerID'].unique()))\n",
    "print(\"Number of values in the players_df: \", len(dfs['players_df']['bioID'].unique()))"
   ]
  },
  {
   "cell_type": "markdown",
   "id": "f304bca3",
   "metadata": {},
   "source": [
    "### Transform the binary objects into binary values"
   ]
  },
  {
   "cell_type": "code",
   "execution_count": 9,
   "id": "e3e7a517",
   "metadata": {
    "ExecuteTime": {
     "end_time": "2023-10-26T14:38:28.412085400Z",
     "start_time": "2023-10-26T14:38:28.359909800Z"
    }
   },
   "outputs": [
    {
     "data": {
      "text/plain": "[('awards_players_df', []),\n ('coaches_df', []),\n ('players_df', ['deathDate']),\n ('players_teams_df', []),\n ('series_post_df', ['W']),\n ('teams_df', ['confID', 'playoff', 'GP']),\n ('teams_post_df', [])]"
     },
     "execution_count": 9,
     "metadata": {},
     "output_type": "execute_result"
    }
   ],
   "source": [
    "#Get all the binary columns from all the dataframes\n",
    "binary_columns = []\n",
    "for df in dfs:\n",
    "    binary_columns = binary_columns + [(df, list(dfs[df].columns[dfs[df].nunique() == 2]))]\n",
    "\n",
    "binary_columns"
   ]
  },
  {
   "cell_type": "markdown",
   "id": "eea0f9b3",
   "metadata": {},
   "source": [
    "Death date being a binary value is a coincidence, as only one player (that has played in the seasons we have) has died.\n",
    "GP is the number of games played and should also not be converted to binary, as we will need this value to calculate the win percentage. (it is only binary because seasons have been of 32 games or 34 games). The W value in the series_post represents the number of wins a team winned in the playoffs. All the playoffs games are in the best of 3 or 5, so the winning team wins 2 or 3 games.\n",
    "The other binary values are binary and should be converted to binary."
   ]
  },
  {
   "cell_type": "code",
   "execution_count": 10,
   "id": "d9d5f50f",
   "metadata": {
    "ExecuteTime": {
     "end_time": "2023-10-26T14:38:28.498634800Z",
     "start_time": "2023-10-26T14:38:28.394412700Z"
    }
   },
   "outputs": [],
   "source": [
    "#Convert the binary columns to 0 and 1\n",
    "#Convert confID to 0 and 1\n",
    "dfs['teams_df']['confID'] = dfs['teams_df']['confID'].replace(['E', 'W'], [0, 1])\n",
    "#Convert playoff to 0 and 1\n",
    "dfs['teams_df']['playoff'] = dfs['teams_df']['playoff'].replace(['N', 'Y'], [0, 1])"
   ]
  },
  {
   "cell_type": "markdown",
   "id": "253fc10b",
   "metadata": {},
   "source": [
    "### Transform the ternary objects into binary values. (where the third value is a null value)"
   ]
  },
  {
   "cell_type": "code",
   "execution_count": 24,
   "id": "fe101729",
   "metadata": {
    "ExecuteTime": {
     "end_time": "2023-10-26T15:12:15.225960300Z",
     "start_time": "2023-10-26T15:12:15.210149200Z"
    }
   },
   "outputs": [],
   "source": [
    "# for the numeric columns in players_teams_df verify if they follow gaussian distribution\n",
    "from scipy import stats\n",
    "for col in dfs['players_teams_df'].select_dtypes(include=np.number).columns:\n",
    "    # print(dfs['players_teams_df'][col].dtype)\n",
    "    # print('jrj')\n",
    "    # sns.distplot(dfs['players_teams_df'][col])\n",
    "    # plt.show()\n",
    "    \n",
    "    # evaluate if the column follows a gaussian distribution\n",
    "    \n",
    "    statistics, p_value = stats.shapiro(dfs['players_teams_df'][col])\n",
    "    alpha = 0.05\n",
    "    if p_value > alpha:\n",
    "        print('{} follows a Gaussian distribution'.format(col))\n",
    "        \n",
    "    # print('Statistics=%.3f, p=%.3f' % (statistics, p_value))\n"
   ]
  },
  {
   "cell_type": "markdown",
   "source": [
    "We conclude that there are no Gaussian distributions in the numeric columns of the players_teams_df."
   ],
   "metadata": {
    "collapsed": false
   },
   "id": "ff1e89d2e20c9f1d"
  },
  {
   "cell_type": "markdown",
   "id": "1896a31c",
   "metadata": {},
   "source": []
  }
 ],
 "metadata": {
  "kernelspec": {
   "display_name": "Python 3",
   "language": "python",
   "name": "python3"
  },
  "language_info": {
   "codemirror_mode": {
    "name": "ipython",
    "version": 3
   },
   "file_extension": ".py",
   "mimetype": "text/x-python",
   "name": "python",
   "nbconvert_exporter": "python",
   "pygments_lexer": "ipython3",
   "version": "3.9.1"
  }
 },
 "nbformat": 4,
 "nbformat_minor": 5
}
